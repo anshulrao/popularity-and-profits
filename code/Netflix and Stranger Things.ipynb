{
 "cells": [
  {
   "cell_type": "code",
   "execution_count": 1,
   "metadata": {},
   "outputs": [],
   "source": [
    "import pandas as pd\n",
    "import numpy as np\n",
    "import matplotlib.pyplot as plt\n",
    "import seaborn as sns"
   ]
  },
  {
   "cell_type": "markdown",
   "metadata": {},
   "source": [
    "### PART I: Analyzing Netflix quotes (close price) for 2019"
   ]
  },
  {
   "cell_type": "markdown",
   "metadata": {},
   "source": [
    "#### Loading the downloaded quotes file of Netflix from NASDAQ. Reading only __date__ and __close price__\n",
    "___"
   ]
  },
  {
   "cell_type": "code",
   "execution_count": 2,
   "metadata": {},
   "outputs": [],
   "source": [
    "quotes = pd.read_csv('../data/nasdaq_netlflix_historical_quotes.csv')\n",
    "quotes = quotes.rename(columns={'Date': 'date', ' Close/Last': 'close_price',\n",
    "                                ' Volume': 'volume'})\n",
    "quotes = quotes[['date', 'close_price', 'volume']]"
   ]
  },
  {
   "cell_type": "markdown",
   "metadata": {},
   "source": [
    "#### Cleaning __date__\n",
    "___\n",
    "- Changing data type of date\n",
    "- Filtering data since I will be looking at 2019's data"
   ]
  },
  {
   "cell_type": "code",
   "execution_count": 3,
   "metadata": {},
   "outputs": [],
   "source": [
    "quotes['date'] = quotes['date'].astype('datetime64[ns]')\n",
    "quotes = quotes[(quotes.date >= '2019-01-01') & (quotes.date <= '2019-12-31')]"
   ]
  },
  {
   "cell_type": "markdown",
   "metadata": {},
   "source": [
    "#### Cleaning __close price__\n",
    "___\n",
    "- Removing '$' sign\n",
    "- Changing data type of close price"
   ]
  },
  {
   "cell_type": "code",
   "execution_count": 4,
   "metadata": {},
   "outputs": [],
   "source": [
    "quotes['close_price'] = quotes['close_price'].apply(lambda r: r.replace(\" $\", \"\"))\n",
    "quotes['close_price'] = quotes['close_price'].astype('double')"
   ]
  },
  {
   "cell_type": "markdown",
   "metadata": {},
   "source": [
    "#### Extracting more information\n",
    "___\n",
    "- The close price in itself is not telling me much, so I need something else.\n",
    "- I am actually interested in knowing whether price increased/decreased and so that's what I'll compute in __diff__ column."
   ]
  },
  {
   "cell_type": "code",
   "execution_count": 5,
   "metadata": {},
   "outputs": [],
   "source": [
    "quotes['diff'] = quotes.close_price.diff()"
   ]
  },
  {
   "cell_type": "markdown",
   "metadata": {},
   "source": [
    "#### Understanding the data\n",
    "___\n",
    "- Since price fluctuations are floating point integers I first bucket them in bins of size=1, i.e., all price jumps between 0.0 to 1.0 will fall in the bucket (0, 1]\n",
    "- To make working with buckets easier (since it is of interval type) I add the __code__ column having category codes.\n",
    "- I then plot a histogram to visualize the data and see how the price fluctuations are distributed."
   ]
  },
  {
   "cell_type": "code",
   "execution_count": 6,
   "metadata": {},
   "outputs": [],
   "source": [
    "quotes['bucket'] = pd.cut(quotes['diff'], list(range(round(quotes['diff'].min())-1, \n",
    "                                                     round(quotes['diff'].max())+1)))"
   ]
  },
  {
   "cell_type": "code",
   "execution_count": 7,
   "metadata": {},
   "outputs": [],
   "source": [
    "quotes['code'] = quotes.bucket.cat.codes"
   ]
  },
  {
   "cell_type": "code",
   "execution_count": 8,
   "metadata": {},
   "outputs": [
    {
     "data": {
      "text/plain": [
       "(array([ 3.,  1.,  5., 17., 33., 73., 76., 29.,  9.,  6.]),\n",
       " array([-1. ,  3.6,  8.2, 12.8, 17.4, 22. , 26.6, 31.2, 35.8, 40.4, 45. ]),\n",
       " <BarContainer object of 10 artists>)"
      ]
     },
     "execution_count": 8,
     "metadata": {},
     "output_type": "execute_result"
    },
    {
     "data": {
      "image/png": "[encoded data removed]",
      "text/plain": [
       "<Figure size 576x360 with 1 Axes>"
      ]
     },
     "metadata": {},
     "output_type": "display_data"
    }
   ],
   "source": [
    "sns.set_style('darkgrid')\n",
    "plt.figure(figsize=(8,5))\n",
    "plt.xlabel(\"Code Bins\") \n",
    "plt.ylabel(\"Frequency\")\n",
    "plt.hist(quotes['code'], color=\"purple\", edgecolor=\"white\")"
   ]
  },
  {
   "cell_type": "code",
   "execution_count": 9,
   "metadata": {},
   "outputs": [],
   "source": [
    "def ecdf(data):\n",
    "    \"\"\"\n",
    "    Compute ECDF for a one-dimensional array.\n",
    "    \n",
    "    \"\"\"\n",
    "    n = len(data)\n",
    "    x = np.sort(data)\n",
    "    y = np.arange(1, n+1)/n\n",
    "    return x, y"
   ]
  },
  {
   "cell_type": "code",
   "execution_count": 10,
   "metadata": {},
   "outputs": [],
   "source": [
    "mu = np.mean(quotes['code'])\n",
    "sigma = np.std(quotes['code'])\n",
    "\n",
    "samples = np.random.normal(mu, sigma, size=2500)\n",
    "\n",
    "x_theoretical, y_theoretical = ecdf(quotes['code'])\n",
    "x, y = ecdf(samples)"
   ]
  },
  {
   "cell_type": "markdown",
   "metadata": {},
   "source": [
    "#### Plotting CDF to avoid binning bias while plotting histograms"
   ]
  },
  {
   "cell_type": "code",
   "execution_count": 11,
   "metadata": {},
   "outputs": [
    {
     "data": {
      "text/plain": [
       "Text(0, 0.5, 'CDF')"
      ]
     },
     "execution_count": 11,
     "metadata": {},
     "output_type": "execute_result"
    },
    {
     "data": {
      "image/png": "[encoded data removed]",
      "text/plain": [
       "<Figure size 576x360 with 1 Axes>"
      ]
     },
     "metadata": {},
     "output_type": "display_data"
    }
   ],
   "source": [
    "plt.figure(figsize=(8,5))\n",
    "sns.set()\n",
    "plt.plot(x_theoretical, y_theoretical)\n",
    "plt.plot(x, y, marker='.', linestyle='none')\n",
    "plt.xlabel('Code Bins')\n",
    "plt.ylabel('CDF')"
   ]
  },
  {
   "cell_type": "markdown",
   "metadata": {},
   "source": [
    "##### The above graph shows that it is an approx. normal distribution (which makes sense since in general price variations will fall within a range and will not vary drastically all year round).\n",
    "##### Majority of the values fall in buckets with codes around 25.\n",
    "##### I will explore the outlier cases when extraordinary variation was observed."
   ]
  },
  {
   "cell_type": "markdown",
   "metadata": {},
   "source": [
    "#### Analyzing the outliers (when more than normal variation in price was observed)\n",
    "___"
   ]
  },
  {
   "cell_type": "code",
   "execution_count": 12,
   "metadata": {},
   "outputs": [
    {
     "data": {
      "text/plain": [
       "<BarContainer object of 9 artists>"
      ]
     },
     "execution_count": 12,
     "metadata": {},
     "output_type": "execute_result"
    },
    {
     "data": {
      "image/png": "[encoded data removed]",
      "text/plain": [
       "<Figure size 1080x360 with 1 Axes>"
      ]
     },
     "metadata": {},
     "output_type": "display_data"
    }
   ],
   "source": [
    "outliers = quotes[(quotes.code < 5) | (quotes.code > 40)][['date', 'diff']]\n",
    "plt.figure(figsize=(15,5))\n",
    "plt.xlabel(\"Date\") \n",
    "plt.ylabel(\"Close Price Variation\") \n",
    "plt.bar(outliers['date'], outliers['diff'], color ='orange', width = 10, \n",
    "        edgecolor='maroon', linewidth=2)"
   ]
  },
  {
   "cell_type": "code",
   "execution_count": 13,
   "metadata": {},
   "outputs": [
    {
     "data": {
      "text/html": [
       "<div>\n",
       "<style scoped>\n",
       "    .dataframe tbody tr th:only-of-type {\n",
       "        vertical-align: middle;\n",
       "    }\n",
       "\n",
       "    .dataframe tbody tr th {\n",
       "        vertical-align: top;\n",
       "    }\n",
       "\n",
       "    .dataframe thead th {\n",
       "        text-align: right;\n",
       "    }\n",
       "</style>\n",
       "<table border=\"1\" class=\"dataframe\">\n",
       "  <thead>\n",
       "    <tr style=\"text-align: right;\">\n",
       "      <th></th>\n",
       "      <th>diff</th>\n",
       "    </tr>\n",
       "    <tr>\n",
       "      <th>date</th>\n",
       "      <th></th>\n",
       "    </tr>\n",
       "  </thead>\n",
       "  <tbody>\n",
       "    <tr>\n",
       "      <th>2019-12-31</th>\n",
       "      <td>NaN</td>\n",
       "    </tr>\n",
       "    <tr>\n",
       "      <th>2019-10-17</th>\n",
       "      <td>18.05</td>\n",
       "    </tr>\n",
       "    <tr>\n",
       "      <th>2019-09-19</th>\n",
       "      <td>15.85</td>\n",
       "    </tr>\n",
       "    <tr>\n",
       "      <th>2019-07-17</th>\n",
       "      <td>37.23</td>\n",
       "    </tr>\n",
       "    <tr>\n",
       "      <th>2019-05-10</th>\n",
       "      <td>15.78</td>\n",
       "    </tr>\n",
       "    <tr>\n",
       "      <th>2019-04-11</th>\n",
       "      <td>16.51</td>\n",
       "    </tr>\n",
       "    <tr>\n",
       "      <th>2019-03-21</th>\n",
       "      <td>16.86</td>\n",
       "    </tr>\n",
       "    <tr>\n",
       "      <th>2019-01-17</th>\n",
       "      <td>14.09</td>\n",
       "    </tr>\n",
       "    <tr>\n",
       "      <th>2019-01-03</th>\n",
       "      <td>-26.37</td>\n",
       "    </tr>\n",
       "  </tbody>\n",
       "</table>\n",
       "</div>"
      ],
      "text/plain": [
       "             diff\n",
       "date             \n",
       "2019-12-31    NaN\n",
       "2019-10-17  18.05\n",
       "2019-09-19  15.85\n",
       "2019-07-17  37.23\n",
       "2019-05-10  15.78\n",
       "2019-04-11  16.51\n",
       "2019-03-21  16.86\n",
       "2019-01-17  14.09\n",
       "2019-01-03 -26.37"
      ]
     },
     "execution_count": 13,
     "metadata": {},
     "output_type": "execute_result"
    }
   ],
   "source": [
    "outliers = outliers.set_index(('date'))\n",
    "outliers"
   ]
  },
  {
   "cell_type": "markdown",
   "metadata": {},
   "source": [
    "##### From the observations above we can see that the price fluctuated maximum around mid-July."
   ]
  },
  {
   "cell_type": "markdown",
   "metadata": {},
   "source": [
    "### PART II: Analyzing Google trends data for Stranger Things (a popular Netflix show) in 2019"
   ]
  },
  {
   "cell_type": "markdown",
   "metadata": {},
   "source": [
    "#### Reading the file downloaded from Google Trends website\n",
    "___"
   ]
  },
  {
   "cell_type": "code",
   "execution_count": 14,
   "metadata": {},
   "outputs": [],
   "source": [
    "trends = pd.read_csv('../data/stanger_things_google_trends_2019.csv', skiprows=1, sep=\",\")"
   ]
  },
  {
   "cell_type": "markdown",
   "metadata": {},
   "source": [
    "#### Plotting the trends data\n",
    "___"
   ]
  },
  {
   "cell_type": "code",
   "execution_count": 15,
   "metadata": {},
   "outputs": [
    {
     "data": {
      "text/plain": [
       "[<matplotlib.lines.Line2D at 0x11b600b50>]"
      ]
     },
     "execution_count": 15,
     "metadata": {},
     "output_type": "execute_result"
    },
    {
     "data": {
      "image/png": "[encoded data removed]",
      "text/plain": [
       "<Figure size 1080x360 with 1 Axes>"
      ]
     },
     "metadata": {},
     "output_type": "display_data"
    }
   ],
   "source": [
    "plt.figure(figsize=(15,5))\n",
    "plt.xticks(rotation=90)\n",
    "plt.xlabel(\"Week\") \n",
    "plt.ylabel(\"Relative Search Interest\") \n",
    "plt.plot(trends.set_index('Week'), \"gs-\", linewidth=2, markersize=8)"
   ]
  },
  {
   "cell_type": "markdown",
   "metadata": {},
   "source": [
    "##### If we look at the plot above then the peak occured around first week of July.\n",
    "##### This happens to be the around the release date (4th July) of the third season of Stranger Things.\n",
    "##### Could it be that this somehow impacted the price variation we saw above in Neflix stocks around this time?\n",
    "##### Maybe Yes, Maybe No."
   ]
  }
 ],
 "metadata": {
  "kernelspec": {
   "display_name": "Python 3",
   "language": "python",
   "name": "python3"
  },
  "language_info": {
   "codemirror_mode": {
    "name": "ipython",
    "version": 3
   },
   "file_extension": ".py",
   "mimetype": "text/x-python",
   "name": "python",
   "nbconvert_exporter": "python",
   "pygments_lexer": "ipython3",
   "version": "3.8.2"
  }
 },
 "nbformat": 4,
 "nbformat_minor": 4
}
